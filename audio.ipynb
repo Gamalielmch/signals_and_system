{
 "cells": [
  {
   "cell_type": "code",
   "execution_count": 1,
   "id": "5909f79a-83f4-4b00-8271-84841c9dee70",
   "metadata": {},
   "outputs": [
    {
     "ename": "ModuleNotFoundError",
     "evalue": "No module named 'librosa'",
     "output_type": "error",
     "traceback": [
      "\u001b[1;31m---------------------------------------------------------------------------\u001b[0m",
      "\u001b[1;31mModuleNotFoundError\u001b[0m                       Traceback (most recent call last)",
      "Cell \u001b[1;32mIn[1], line 2\u001b[0m\n\u001b[0;32m      1\u001b[0m \u001b[38;5;28;01mimport\u001b[39;00m \u001b[38;5;21;01mnumpy\u001b[39;00m \u001b[38;5;28;01mas\u001b[39;00m \u001b[38;5;21;01mnp\u001b[39;00m \n\u001b[1;32m----> 2\u001b[0m \u001b[38;5;28;01mimport\u001b[39;00m \u001b[38;5;21;01mlibrosa\u001b[39;00m \n\u001b[0;32m      3\u001b[0m \u001b[38;5;28;01mimport\u001b[39;00m \u001b[38;5;21;01mmatplotlib\u001b[39;00m\u001b[38;5;21;01m.\u001b[39;00m\u001b[38;5;21;01mpyplot\u001b[39;00m \u001b[38;5;28;01mas\u001b[39;00m \u001b[38;5;21;01mplt\u001b[39;00m \n\u001b[0;32m      4\u001b[0m \u001b[38;5;28;01mimport\u001b[39;00m \u001b[38;5;21;01mIPython\u001b[39;00m\u001b[38;5;21;01m.\u001b[39;00m\u001b[38;5;21;01mdisplay\u001b[39;00m \u001b[38;5;28;01mas\u001b[39;00m \u001b[38;5;21;01mipd\u001b[39;00m\n",
      "\u001b[1;31mModuleNotFoundError\u001b[0m: No module named 'librosa'"
     ]
    }
   ],
   "source": [
    "import numpy as np \n",
    "import librosa \n",
    "import matplotlib.pyplot as plt \n",
    "import IPython.display as ipd\n",
    "from scipy.fft import fft, fftfreq\n",
    "%matplotlib qt "
   ]
  },
  {
   "cell_type": "code",
   "execution_count": null,
   "id": "e862d726-02c8-403a-a281-1ffe73f3a553",
   "metadata": {},
   "outputs": [],
   "source": [
    "x1,sr1=librosa.load('voz1.opus')\n",
    "x2,sr2=librosa.load('voz2.opus')"
   ]
  },
  {
   "cell_type": "code",
   "execution_count": null,
   "id": "de0298dc-e06d-49c0-8cf4-49055dcc83a7",
   "metadata": {},
   "outputs": [],
   "source": [
    "ipd.Audio(x1,rate=sr1)\n",
    "fig,ax=plt.subplots(2, 1)\n",
    "ax[0].plot(x1,'r')\n",
    "ax[1].plot(x2,'b')"
   ]
  },
  {
   "cell_type": "code",
   "execution_count": null,
   "id": "c6621625-74b2-4e6b-82c2-ad76e5276ac2",
   "metadata": {},
   "outputs": [],
   "source": [
    "ipd.Audio(x2,rate=sr1)"
   ]
  },
  {
   "cell_type": "code",
   "execution_count": null,
   "id": "d678bd30-ef7c-4d18-8534-e6f7c46e40f6",
   "metadata": {},
   "outputs": [],
   "source": [
    "Fs = sr1\n",
    "T = 1 / Fs\n",
    "N =len(x1)\n",
    "\n",
    "xf = fftfreq(N, T)\n",
    "xf= np.fft.fftshift(xf)\n",
    "\n",
    "x1f = np.fft.fft(x1)\n",
    "x1fs = np.fft.fftshift(x1f)\n",
    "\n",
    "fig=plt.figure(figsize=(15,9))\n",
    "ax= fig.subplots(nrows=2, ncols=1)\n",
    "ax[0].plot(xf,np.abs(x1fs))\n",
    "ax[0].set_title('Con chiflido')\n",
    "\n",
    "\n",
    "Fs = sr2\n",
    "T = 1 / Fs\n",
    "N =len(x2)\n",
    "\n",
    "xf = fftfreq(N, T)\n",
    "xf= np.fft.fftshift(xf)\n",
    "x2f = np.fft.fft(x2)\n",
    "x2fs = np.fft.fftshift(x2f)\n",
    "ax[1].plot(xf,np.abs(x2fs))\n",
    "ax[1].set_title('Sin chiflido')"
   ]
  },
  {
   "cell_type": "code",
   "execution_count": null,
   "id": "6c809426-a8ee-4819-8bf9-4b4ef603f1e3",
   "metadata": {},
   "outputs": [],
   "source": [
    "plt.plot(np.abs(x1f))\n",
    "x1f[3200:3500]=.01*x1f[3200:3500]\n",
    "x1f[20000:20600]=.01*x1f[20000:20600]\n",
    "plt.plot(np.abs(x1f))"
   ]
  },
  {
   "cell_type": "code",
   "execution_count": null,
   "id": "c15e3955-c466-4bee-8878-49e1bd8fb5c4",
   "metadata": {},
   "outputs": [],
   "source": [
    "\n",
    "print(len(x1))"
   ]
  },
  {
   "cell_type": "code",
   "execution_count": null,
   "id": "9015f41a-d0d9-4d8c-9cba-d927781baa17",
   "metadata": {},
   "outputs": [],
   "source": []
  }
 ],
 "metadata": {
  "kernelspec": {
   "display_name": "Python 3 (ipykernel)",
   "language": "python",
   "name": "python3"
  },
  "language_info": {
   "codemirror_mode": {
    "name": "ipython",
    "version": 3
   },
   "file_extension": ".py",
   "mimetype": "text/x-python",
   "name": "python",
   "nbconvert_exporter": "python",
   "pygments_lexer": "ipython3",
   "version": "3.11.5"
  }
 },
 "nbformat": 4,
 "nbformat_minor": 5
}
