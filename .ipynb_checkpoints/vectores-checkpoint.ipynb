{
 "cells": [
  {
   "cell_type": "code",
   "execution_count": 1,
   "id": "acc4e3b1-8830-44d2-a8bb-51b2d8ec45bb",
   "metadata": {},
   "outputs": [],
   "source": [
    "import numpy as np \n",
    "import matplotlib.pyplot as plt"
   ]
  },
  {
   "cell_type": "code",
   "execution_count": 16,
   "id": "abc10b03-6e62-46a4-b2e0-98cc2bf91000",
   "metadata": {},
   "outputs": [
    {
     "name": "stdout",
     "output_type": "stream",
     "text": [
      "[ 1.21428571  0.85714286 -0.07142857]\n"
     ]
    }
   ],
   "source": [
    "%matplotlib qt\n",
    "ax = plt.figure().add_subplot(projection='3d')\n",
    "margin=10\n",
    "ax.set_xlim3d(-margin, margin)\n",
    "ax.set_ylim3d(-margin, margin)\n",
    "ax.set_zlim3d(-margin, margin)\n",
    "v1=np.array([3, -3, 3])\n",
    "v2=np.array([6, 9, -3])\n",
    "v3=np.array([-3, -6, -6])\n",
    "vr=np.array([9, 4.5, 1.5])\n",
    "\n",
    "matriz= np.array([[3, 6, -3],[-3, 9, -6],[3, -3, -6]])\n",
    "x = np.linalg.solve(matriz, vr)\n",
    "print(x)\n",
    "a=x[0]\n",
    "b=x[1]\n",
    "c=x[2]\n",
    "ax.quiver(0, 0, 0, v1[0], v1[1], v1[2], length = 1, normalize = False, arrow_length_ratio=0.1, color='red')\n",
    "ax.quiver(0, 0, 0, v2[0], v2[1], v2[2], length = 1, normalize = False, arrow_length_ratio=0.1, color='green')\n",
    "ax.quiver(0, 0, 0, v3[0], v3[1], v3[2], length = 1, normalize = False, arrow_length_ratio=0.1, color='blue')\n",
    "ax.quiver(0, 0, 0, vr[0], vr[1], vr[2], length = 1, normalize = False, arrow_length_ratio=0.1, color='black')\n",
    "\n",
    "\n",
    "ax.plot([0, a*v1[0]],[0, a*v1[1]],[0,a*v1[2]], 'c-', linewidth=3)\n",
    "ax.plot([a*v1[0], a*v1[0]+b*v2[0]],[a*v1[1], a*v1[1]+b*v2[1]],[a*v1[2],a*v1[2]+b*v2[2]], 'c-', linewidth=3)\n",
    "ax.plot([a*v1[0]+b*v2[0], a*v1[0]+b*v2[0]+c*v3[0]],\n",
    "        [a*v1[1]+b*v2[1], a*v1[1]+b*v2[1]+c*v3[1]],\n",
    "        [a*v1[2]+b*v2[2], a*v1[2]+b*v2[2]+c*v3[2]],\n",
    "         'c-', linewidth=3)\n",
    "plt.tight_layout() \n",
    "plt.show()"
   ]
  },
  {
   "cell_type": "code",
   "execution_count": null,
   "id": "725d5332-c5c1-45fb-a46f-4b78ccabbc43",
   "metadata": {},
   "outputs": [],
   "source": [
    "2.21428571*3"
   ]
  },
  {
   "cell_type": "code",
   "execution_count": null,
   "id": "bd6e6605-77fa-4061-b3e7-5d62ef91b70f",
   "metadata": {},
   "outputs": [],
   "source": []
  }
 ],
 "metadata": {
  "kernelspec": {
   "display_name": "Python 3 (ipykernel)",
   "language": "python",
   "name": "python3"
  },
  "language_info": {
   "codemirror_mode": {
    "name": "ipython",
    "version": 3
   },
   "file_extension": ".py",
   "mimetype": "text/x-python",
   "name": "python",
   "nbconvert_exporter": "python",
   "pygments_lexer": "ipython3",
   "version": "3.10.9"
  }
 },
 "nbformat": 4,
 "nbformat_minor": 5
}
